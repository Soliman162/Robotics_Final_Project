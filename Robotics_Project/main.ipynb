{
 "cells": [
  {
   "cell_type": "code",
   "execution_count": 1,
   "id": "a65c7140",
   "metadata": {},
   "outputs": [],
   "source": [
    "import time\n",
    "import numpy as np \n",
    "from zmqRemoteApi import RemoteAPIClient"
   ]
  },
  {
   "cell_type": "code",
   "execution_count": 2,
   "id": "2ff0df66",
   "metadata": {},
   "outputs": [],
   "source": [
    "def degree_To_radian(degree):\n",
    "    return (degree * np.pi/180)\n",
    "\n",
    "\n",
    "def FK(theta, alfa, a, d):\n",
    "    \n",
    "    Cos_theta = np.cos(theta)\n",
    "    Sin_theta = np.sin(theta)\n",
    "    \n",
    "    Cos_alfa = np.cos(alfa)\n",
    "    Sin_alfa = np.sin(alfa)\n",
    "    \n",
    "    Transformation_mat = np.array([\n",
    "        \n",
    "                                    [Cos_theta,-Sin_theta*Cos_alfa,Sin_theta*Sin_alfa,a*Cos_theta],\n",
    "                                    [Sin_theta,Cos_theta*Cos_alfa,-Cos_theta*Sin_alfa,a*Sin_theta],\n",
    "                                    [0,Sin_alfa,Cos_alfa,d],\n",
    "                                    [0,0,0,1]\n",
    "    ])\n",
    "    \n",
    "    return np.round(Transformation_mat.reshape(4,4),2)"
   ]
  },
  {
   "cell_type": "code",
   "execution_count": 3,
   "id": "2b537b65",
   "metadata": {},
   "outputs": [],
   "source": [
    "def Calculate_Jacopian_P(Trans_mat_arr):\n",
    "    \n",
    "    O_0 = np.zeros([3,1])\n",
    "    Jp_size = len(Trans_mat_arr)\n",
    "    Z_0 = np.array([[0,0,1]]).reshape(3,1)\n",
    "    \n",
    "    Z_arr = [z[0:3,2] for z in Trans_mat_arr]\n",
    "    Z_arr.insert(0,Z_0)\n",
    "    \n",
    "    O_arr = [o[0:3,3] for o in Trans_mat_arr]\n",
    "    O_arr.insert(0,O_0)\n",
    "    \n",
    "    O_last = O_arr[-1].reshape(3,1)\n",
    "    \n",
    "    jp_mat = np.array([\n",
    "        [np.cross(Z_arr[i].reshape(3,1) , (O_last-O_arr[i].reshape(3,1)),axis=0) for i in range(Jp_size)]\n",
    "    ])\n",
    "        \n",
    "    return jp_mat.reshape(3,Jp_size).transpose()\n",
    "    \n",
    "def Calculate_Jacopian_r(Trans_mat_arr):\n",
    "    \n",
    "    Z_0 = np.array([[0,0,1]])\n",
    "    Jp_size = len(Trans_mat_arr)\n",
    "        \n",
    "    Z_arr = [Trans_mat_arr[z][0:3,2] for z in range(Jp_size-1)]\n",
    "    Z_arr.insert(0,Z_0)\n",
    "    \n",
    "    Jr_mat = np.array([[z.reshape(3,1) for z in Z_arr]])\n",
    "    \n",
    "    return Jr_mat.reshape(3,Jp_size).transpose()\n",
    "\n",
    "def Calculate_J(Trans_mat_arr):\n",
    "    J_size = len(Trans_mat_arr)\n",
    "    J = np.array([\n",
    "                    [Calculate_Jacopian_P(Trans_mat_arr),\n",
    "                     Calculate_Jacopian_r(Trans_mat_arr)]\n",
    "                ])\n",
    "    \n",
    "    return J.reshape(6,J_size)\n",
    "    "
   ]
  },
  {
   "cell_type": "code",
   "execution_count": 4,
   "id": "009e5216",
   "metadata": {},
   "outputs": [],
   "source": [
    "def Calculate_0n_Matrix(Trans_mat_arr):\n",
    "    \n",
    "    n = len(Trans_mat_arr)\n",
    "    T_0 = np.identity(4)\n",
    "    \n",
    "    result_mat = []\n",
    "    \n",
    "    for i in range(n):\n",
    "        T_0 = np.matmul(T_0,Trans_mat_arr[i])\n",
    "        result_mat.append( T_0 )\n",
    "        \n",
    "    return result_mat\n",
    "    "
   ]
  },
  {
   "cell_type": "code",
   "execution_count": 5,
   "id": "e14c001f",
   "metadata": {},
   "outputs": [],
   "source": [
    "def Calculate_Delta_X(Td, T0):\n",
    "    \n",
    "    Pd = Td[0:3,3]\n",
    "    P0 = T0[0:3,3]\n",
    "    \n",
    "    Rd = Td[0:3,0:3]\n",
    "    R0 = T0[0:3,0:3]\n",
    "    \n",
    "    I = np.identity(3)\n",
    "    \n",
    "    Pos_list = np.array([[d-c for d,c in zip(Pd,P0)]])\n",
    "    Pos_list = Pos_list.reshape(3,1)\n",
    "    \n",
    "    DR = np.matmul(Rd,R0.transpose())\n",
    "    skew = np.subtract(DR , I)\n",
    "    skew = np.round(skew,2)\n",
    "    print(\"skew = \\n\",skew)\n",
    "    \n",
    "    vec = np.array([[abs(skew[1,2]),abs(skew[0,2]) ,abs(skew[0,1])]])\n",
    "    #vec = np.array([1,1,1])\n",
    "    #vec = np.vectorize(skew)\n",
    "    \n",
    "    print(\"vec = \\n\",vec)\n",
    "    vec = vec.reshape(3,1)\n",
    "    \n",
    "    Delta_X = np.array([Pos_list,vec])\n",
    "        \n",
    "    return np.round(Delta_X.reshape(6,1),2)  "
   ]
  },
  {
   "cell_type": "code",
   "execution_count": 6,
   "id": "1bada5a2",
   "metadata": {},
   "outputs": [],
   "source": [
    "def Calculate_IK(dX,J,q0):\n",
    "    # qd = q0 + J+ * d_X\n",
    "    j_pinv = np.linalg.pinv(J)\n",
    "    \n",
    "    q0_arr = np.array([q0])\n",
    "    q0_arr = q0_arr.reshape(6,1)\n",
    "    \n",
    "    qd = np.add(q0_arr,np.matmul(np.round(j_pinv,2),dX)) # 6*1\n",
    "    \n",
    "    #qd = [the[0] for the in temp]\n",
    "    \n",
    "    return np.round(qd.reshape(1,6),2)"
   ]
  },
  {
   "cell_type": "code",
   "execution_count": 16,
   "id": "9cf725d4",
   "metadata": {},
   "outputs": [
    {
     "data": {
      "text/plain": [
       "1"
      ]
     },
     "execution_count": 16,
     "metadata": {},
     "output_type": "execute_result"
    }
   ],
   "source": [
    "client = RemoteAPIClient()\n",
    "sim = client.getObject('sim')\n",
    "\n",
    "# When simulation is not running, ZMQ message handling could be a bit\n",
    "# slow, since the idle loop runs at 8 Hz by default. So let's make\n",
    "# sure that the idle loop runs at full speed for this program:\n",
    "defaultIdleFps = sim.getInt32Param(sim.intparam_idle_fps)\n",
    "sim.setInt32Param(sim.intparam_idle_fps, 0)"
   ]
  },
  {
   "cell_type": "code",
   "execution_count": 17,
   "id": "f78e14d5",
   "metadata": {},
   "outputs": [],
   "source": [
    "# set Object name \n",
    "joint_names = [f\"joint_{i+1}\"  for i in range(6)]\n",
    "\n",
    "joint_handels = [sim.getObjectHandle(joint) for joint in joint_names]\n",
    "# set Object handel \n",
    "EE_handle = sim.getObjectHandle(\"EE_h\")\n",
    "EE_h_Pos = sim.getObjectPosition(EE_handle,joint_handels[0])\n",
    "\n",
    "\n",
    "joint_Position = [sim.getJointPosition(handle) for handle in joint_handels]\n",
    "\n",
    "joint_6_pos = sim.getObjectPosition(joint_handels[-1],joint_handels[0] )\n",
    "\n",
    "joint_6_pos = np.round(joint_6_pos,2)\n",
    "\n",
    "# T0\n",
    "EE_Trans = np.array([ sim.getObjectMatrix( EE_handle ,joint_handels[0]) ])\n",
    "EE_Trans = np.round(EE_Trans.reshape(3,4),2)\n",
    "\n",
    "Target_handle = sim.getObjectHandle(\"Cuboid\")\n",
    "\n",
    "# print(\"joint_Position = \\n\",np.round(joint_Position,2))\n",
    "# print(\"EE_Trans = \\n\",np.round(EE_Trans.reshape(3,4),2))\n",
    "# print(\"EE_h_Pos = \\n\",np.round(EE_h_Pos,2))\n",
    "\n",
    "for handle in joint_handels:\n",
    "    sim.setObjectInt32Parameter(handle ,2001,~0) #to enable the position control"
   ]
  },
  {
   "cell_type": "code",
   "execution_count": 18,
   "id": "87a53ec0",
   "metadata": {},
   "outputs": [],
   "source": [
    "# init DH-parameters\n",
    "q0 = [0,0,0,0,0,0]\n",
    "alpha = [90,0,0,90,-90,0]\n",
    "D = [0.1519,0,0,0.11235,0.08535,0.0819]\n",
    "A = [0,-0.24365,-0.21325,0,0,0]\n"
   ]
  },
  {
   "cell_type": "code",
   "execution_count": 19,
   "id": "cd408bb3",
   "metadata": {},
   "outputs": [
    {
     "name": "stdout",
     "output_type": "stream",
     "text": [
      "T_0n[5] = \n",
      " [[ 1.    0.    0.   -0.45]\n",
      " [ 0.    0.   -1.   -0.19]\n",
      " [ 0.    1.    0.    0.06]\n",
      " [ 0.    0.    0.    1.  ]] \n",
      "\n",
      "\n",
      "EE_Trans = \n",
      " [[ 0.    1.    0.   -0.  ]\n",
      " [ 0.   -0.    1.    0.19]\n",
      " [ 1.   -0.    0.    0.55]] \n",
      "\n",
      "\n",
      "EE_h_Pos = \n",
      " [-0.    0.19  0.55] \n",
      "\n",
      "\n",
      "joint_6_pos = \n",
      " [-0.    0.11  0.55]\n",
      "t00 = \n",
      " [[ 1.    0.    0.    0.  ]\n",
      " [ 0.    0.   -1.    0.  ]\n",
      " [ 0.    1.    0.    0.15]\n",
      " [ 0.    0.    0.    1.  ]]\n"
     ]
    }
   ],
   "source": [
    "# calc Transformation matrix using FK\n",
    "Trans_list = [FK(degree_To_radian(theta),degree_To_radian(alp),a,d) for theta,alp,a,d in zip(q0,alpha,A,D)]\n",
    "\n",
    "T_0n = Calculate_0n_Matrix(Trans_list)\n",
    "\n",
    "# T_0n = [ np.array([ sim.getObjectMatrix(joint_handels[i],joint_handels[0] )]).reshape(3,4) for i in range(1,6)]\n",
    "\n",
    "# T_0n.insert(0,np.array([ sim.getObjectMatrix( joint_handels[0] , -1 ) ]).reshape(3,4) )\n",
    "\n",
    "# for i in range(6):\n",
    "#      T_0n[i] = np.round(T_0n[i],2)\n",
    "\n",
    "# print(\"qd = \\n\",qd,\"\\n\\n\")\n",
    "print(\"T_0n[5] = \\n\",T_0n[-1],\"\\n\\n\")\n",
    "print(\"EE_Trans = \\n\",EE_Trans,\"\\n\\n\")\n",
    "print(\"EE_h_Pos = \\n\",np.round(EE_h_Pos,2),\"\\n\\n\")\n",
    "print(\"joint_6_pos = \\n\",joint_6_pos)\n",
    "print(\"t00 = \\n\",T_0n[0])\n",
    "# print(\"delta_X = \\n\",delta_X)\n",
    "\n",
    "# for t in Trans_list:\n",
    "#     print(\"t = \\n\",t,\"\\n\")\n",
    "\n",
    "# calc T disierd\n",
    "# T_d = FK(degree_To_radian(30),degree_To_radian(45),0,0)\n",
    "T_d = np.array([ sim.getObjectMatrix( Target_handle ,joint_handels[0])])\n",
    "T_d = T_d.reshape(3,4)\n",
    "T0_6 = EE_Trans"
   ]
  },
  {
   "cell_type": "code",
   "execution_count": 20,
   "id": "7e6b5b04",
   "metadata": {},
   "outputs": [
    {
     "name": "stdout",
     "output_type": "stream",
     "text": [
      "skew = \n",
      " [[ 0.  0. -0.]\n",
      " [-0. -1. -1.]\n",
      " [ 0.  1. -1.]]\n",
      "vec = \n",
      " [[1. 0. 0.]]\n",
      "delta_X = \n",
      "  [[ 0.2 ]\n",
      " [ 0.11]\n",
      " [-0.45]\n",
      " [ 1.  ]\n",
      " [ 0.  ]\n",
      " [ 0.  ]]\n",
      "[[ 0.32 -0.57  0.26  0.28 -0.99  0.  ]]\n",
      "np.linalg.norm(delta_X) = 1.12\n"
     ]
    }
   ],
   "source": [
    "# claculate Jacopian matrix\n",
    "J = Calculate_J(T_0n)\n",
    "\n",
    "# calculate delta X matrix  \n",
    "delta_X = Calculate_Delta_X(T_d,EE_Trans)\n",
    "\n",
    "print(\"delta_X = \\n \",delta_X)\n",
    "\n",
    "# calculate qd using IK \n",
    "qd = Calculate_IK(delta_X,J,q0)\n",
    "\n",
    "print(qd)\n",
    "\n",
    "print(\"np.linalg.norm(delta_X) =\",np.round(np.linalg.norm(delta_X),2))\n",
    "\n",
    "# print(\"np.linalg.norm(delta_X) = \\n\",np.round(np.linalg.norm(delta_X),2))"
   ]
  },
  {
   "cell_type": "code",
   "execution_count": null,
   "id": "2972c652",
   "metadata": {},
   "outputs": [],
   "source": [
    "while ~( np.isclose( np.linalg.norm(delta_X),0.1 ,rtol=0.01)  ):\n",
    "    \n",
    "    #q0 = qd.copy()\n",
    "\n",
    "\n",
    "#     Trans_list.clear()\n",
    "    \n",
    "#     Trans_list = [FK(theta,degree_To_radian(alp),a,d) for theta,alp,d,a in zip(q0[0],alpha,D,A)]\n",
    "    \n",
    "#     T_0n = Calculate_0n_Matrix(Trans_list)\n",
    "\n",
    "    T_0n.clear()\n",
    "\n",
    "    T_0n = [ np.array([ sim.getObjectMatrix(joint_handels[i],joint_handels[0] )]).reshape(3,4) for i in range(1,6)]\n",
    "\n",
    "    T_0n.insert(0,np.array([ sim.getObjectMatrix( joint_handels[0] , -1 ) ]).reshape(3,4) )\n",
    "\n",
    "    for i in range(6):\n",
    "         T_0n[i] = np.round(T_0n[i],2)\n",
    "\n",
    "    J = Calculate_J(T_0n)\n",
    "    delta_X = Calculate_Delta_X(T_d,T_0n[-1])\n",
    "    \n",
    "    print(\"delta_X = \\n\",delta_X)\n",
    "    print(\"np.linalg.norm(delta_X) =\",np.round(np.linalg.norm(delta_X),2))\n",
    "    \n",
    "    qd = Calculate_IK(delta_X,J,q0)\n",
    "    print(\"qd = \\n\",qd,\"\\n\\n\")    "
   ]
  },
  {
   "cell_type": "code",
   "execution_count": 21,
   "id": "07c2fdc4",
   "metadata": {},
   "outputs": [],
   "source": [
    "# gripper \n",
    "\n",
    "#yum_gripper_handle = sim.getObjectHandle(\"openCloseJoint\")\n",
    "\n",
    "connector=sim.getObject('./attachPoint')\n",
    "objectSensor=sim.getObject('./attachProxSensor')\n",
    "\n",
    "#Target_Object_handle = \n",
    "\n",
    "\n",
    "index=0\n",
    "while True: \n",
    "    \n",
    "    shape=sim.getObjects(index,sim.object_shape_type)\n",
    "    \n",
    "    if shape==-1:\n",
    "        break\n",
    "        \n",
    "    cond_1 = sim.getObjectInt32Param(shape,sim.shapeintparam_static)\n",
    "    cond_2 = sim.getObjectInt32Param(shape,sim.shapeintparam_respondable)\n",
    "    cond_3 = sim.checkProximitySensor(objectSensor,shape)\n",
    "    \n",
    "    if ((cond_1==0) and (cond_2!=0) and (cond_3==1)):\n",
    "         # Ok, we found a non-static respondable shape that was detected\n",
    "        attachedShape=shape\n",
    "         # Do the connection:\n",
    "        sim.setObjectParent(attachedShape,connector,true)\n",
    "        break\n",
    "    index +=1\n",
    "\n",
    "\n",
    "# c) And just before opening the gripper again, detach the previously attached shape:\n",
    "#sim.setObjectParent(attachedShape,-1,true)\n"
   ]
  },
  {
   "cell_type": "code",
   "execution_count": 22,
   "id": "e9eb31a3",
   "metadata": {},
   "outputs": [
    {
     "name": "stdout",
     "output_type": "stream",
     "text": [
      "[0, 0, 0, 0, 0, 0]\n",
      "[[ 0.32 -0.57  0.26  0.28 -0.99  0.  ]]\n"
     ]
    }
   ],
   "source": [
    "print(q0)\n",
    "print(qd)"
   ]
  },
  {
   "cell_type": "code",
   "execution_count": 26,
   "id": "99f5a25b",
   "metadata": {},
   "outputs": [],
   "source": [
    "\n",
    "client.setStepping(False)\n",
    "sim.startSimulation()\n",
    "\n",
    "\n",
    "for (handle,degree) in zip(joint_handels,qd[0]):\n",
    "    sim.startSimulation()\n",
    "#     # close\n",
    "#     sim.setJointTargetVelocity(yum_gripper_handle,-0.02)\n",
    "    sim.setJointTargetPosition(handle, degree ) # degree by radian\n",
    "    "
   ]
  },
  {
   "cell_type": "code",
   "execution_count": null,
   "id": "71e98af0",
   "metadata": {},
   "outputs": [],
   "source": [
    "#open\n",
    "#sim.setJointTargetVelocity(yum_gripper_handle,0.02)"
   ]
  },
  {
   "cell_type": "code",
   "execution_count": null,
   "id": "fc320d3e",
   "metadata": {},
   "outputs": [],
   "source": [
    "sim.stopSimulation()"
   ]
  },
  {
   "cell_type": "code",
   "execution_count": null,
   "id": "73f45229",
   "metadata": {},
   "outputs": [],
   "source": []
  }
 ],
 "metadata": {
  "kernelspec": {
   "display_name": "Python 3 (ipykernel)",
   "language": "python",
   "name": "python3"
  },
  "language_info": {
   "codemirror_mode": {
    "name": "ipython",
    "version": 3
   },
   "file_extension": ".py",
   "mimetype": "text/x-python",
   "name": "python",
   "nbconvert_exporter": "python",
   "pygments_lexer": "ipython3",
   "version": "3.8.10"
  }
 },
 "nbformat": 4,
 "nbformat_minor": 5
}
