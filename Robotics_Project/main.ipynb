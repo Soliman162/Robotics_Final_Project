{
 "cells": [
  {
   "cell_type": "code",
   "execution_count": null,
   "id": "a65c7140",
   "metadata": {},
   "outputs": [],
   "source": [
    "import time\n",
    "import numpy as np \n",
    "from zmqRemoteApi import RemoteAPIClient"
   ]
  },
  {
   "cell_type": "code",
   "execution_count": null,
   "id": "f831d727",
   "metadata": {},
   "outputs": [],
   "source": [
    "def degree_To_radian(degree):\n",
    "    return (degree * np.pi/180)\n",
    "\n",
    "def FK(th,alp,a,d):\n",
    "    \n",
    "    Cth=np.cos(th); Sth=np.sin(th); Calp=np.cos(alp); Salp=np.sin(alp)\n",
    "    T=np.array([\n",
    "                    [Cth, -Sth*Calp, Sth*Salp, a*Cth],\n",
    "                    [Sth, Cth*Calp, -Cth*Salp , a*Sth],\n",
    "                    [0,Salp,Calp,d],\n",
    "                    [0,0,0,1]\n",
    "               ])\n",
    "    return np.round(T,2)"
   ]
  },
  {
   "cell_type": "code",
   "execution_count": null,
   "id": "8a1d782d",
   "metadata": {},
   "outputs": [],
   "source": [
    "def Calculate_Jacopian_P(Trans_mat_arr):\n",
    "    \n",
    "    O_0 = np.zeros([3,1])\n",
    "    Jp_size = len(Trans_mat_arr)\n",
    "    Z_0 = np.array([[0,0,1]]).reshape(3,1)\n",
    "    \n",
    "    Z_arr = [z[0:3,2] for z in Trans_mat_arr]\n",
    "    Z_arr.insert(0,Z_0)\n",
    "    \n",
    "    O_arr = [o[0:3,3] for o in Trans_mat_arr]\n",
    "    O_arr.insert(0,O_0)\n",
    "    \n",
    "    O_last = O_arr[-1].reshape(3,1)\n",
    "    \n",
    "    jp_mat = np.array([\n",
    "        [np.cross(Z_arr[i].reshape(3,1),(O_last-O_arr[i].reshape(3,1)),axis=0) for i in range(Jp_size)]\n",
    "    ])\n",
    "        \n",
    "    return jp_mat.reshape(3,Jp_size).transpose()\n",
    "    \n",
    "def Calculate_Jacopian_r(Trans_mat_arr):\n",
    "    \n",
    "    Z_0 = np.array([[0,0,1]])\n",
    "    Jp_size = len(Trans_mat_arr)\n",
    "        \n",
    "    Z_arr = [Trans_mat_arr[z][0:3,2] for z in range(Jp_size-1)]\n",
    "    Z_arr.insert(0,Z_0)\n",
    "    \n",
    "    Jr_mat = np.array([[z.reshape(3,1) for z in Z_arr]])\n",
    "    \n",
    "    return Jr_mat.reshape(3,Jp_size).transpose()\n",
    "\n",
    "def Calculate_J(Trans_mat_arr):\n",
    "    J_size = len(Trans_mat_arr)\n",
    "    J = np.array([\n",
    "                    [Calculate_Jacopian_P(Trans_mat_arr),\n",
    "                     Calculate_Jacopian_r(Trans_mat_arr)]\n",
    "                ])\n",
    "    \n",
    "    return J.reshape(6,J_size)\n",
    "    "
   ]
  },
  {
   "cell_type": "code",
   "execution_count": null,
   "id": "e14c001f",
   "metadata": {},
   "outputs": [],
   "source": [
    "def Calculate_Delta_X(Td, T0):\n",
    "    \n",
    "    Pd = Td[0:3,3]\n",
    "    P0 = T0[0:3,3]\n",
    "    \n",
    "    Rd = Td[0:3,0:3]\n",
    "    R0 = T0[0:3,0:3]\n",
    "    \n",
    "    I = np.identity(3)\n",
    "    \n",
    "    Pos_list = np.array([[d-c for d,c in zip(Pd,P0)]])\n",
    "    Pos_list = Pos_list.reshape(3,1)\n",
    "    \n",
    "    DR = np.matmul(Rd,R0.transpose())\n",
    "    skew = np.subtract(DR , I)\n",
    "    \n",
    "    vec = np.array([[abs(skew[1,2]),abs(skew[0,2]) ,abs(skew[0,1])]])\n",
    "    vec = vec.reshape(3,1)\n",
    "    \n",
    "    Delta_X = np.array([Pos_list,vec])\n",
    "    \n",
    "    print(\"Delta_X = \\n\",Delta_X)\n",
    "    \n",
    "    return Delta_X.reshape(6,1)  "
   ]
  },
  {
   "cell_type": "code",
   "execution_count": null,
   "id": "1bada5a2",
   "metadata": {},
   "outputs": [],
   "source": [
    "def Calculate_IK(dX,J,q0):\n",
    "    # qd = q0 + J * d_X\n",
    "    qd = numpy.add(q0,np.matmul(J,dX))\n",
    "    return qd"
   ]
  },
  {
   "cell_type": "code",
   "execution_count": null,
   "id": "745accd5",
   "metadata": {},
   "outputs": [],
   "source": [
    "error = 0.001\n",
    "q0 = [90,45,90,45]\n",
    "alpha = []\n",
    "\n",
    "Trans_list = [FK(th, ) for th in q0]\n",
    "J = Calculate_J(Trans_list)\n",
    "delta_X = Calculate_Delta_X(Trans_list[0],Trans_list[-1])\n",
    "qd = Calculate_IK(delta_X,J,q0)"
   ]
  },
  {
   "cell_type": "code",
   "execution_count": null,
   "id": "4ab223f2",
   "metadata": {},
   "outputs": [],
   "source": [
    "while ~(np.linalg.norm(delta_X) < error):\n",
    "    \n",
    "    q0 = qd\n",
    "    Trans_list = [FK(th, ) for th in q0]\n",
    "    J = Calculate_J(Trans_list)\n",
    "    delta_X = Calculate_Delta_X(Trans_list[0],Trans_list[-1])\n",
    "    qd = Calculate_IK(delta_X,J,q0)"
   ]
  },
  {
   "cell_type": "code",
   "execution_count": null,
   "id": "6e7cdde8",
   "metadata": {},
   "outputs": [],
   "source": [
    "client = RemoteAPIClient()\n",
    "sim = client.getObject('sim')\n",
    "\n",
    "# When simulation is not running, ZMQ message handling could be a bit\n",
    "# slow, since the idle loop runs at 8 Hz by default. So let's make\n",
    "# sure that the idle loop runs at full speed for this program:\n",
    "defaultIdleFps = sim.getInt32Param(sim.intparam_idle_fps)\n",
    "sim.setInt32Param(sim.intparam_idle_fps, 0)"
   ]
  },
  {
   "cell_type": "code",
   "execution_count": null,
   "id": "b4983d1d",
   "metadata": {},
   "outputs": [],
   "source": [
    "# set Object name \n",
    "joint_names = [f\"joint_{i+1}\"  for i in range(6)]\n",
    "# set Object handel \n",
    "joint_handels = [sim.getObjectHandle(joint) for joint in joint_names]\n",
    "joint_Position = [sim.getJointPosition(handle) for handle in joint_handels]\n",
    "\n",
    "for handle in joint_handels:\n",
    "    sim.setObjectInt32Parameter(handle ,2001,~0) #to enable the position control"
   ]
  },
  {
   "cell_type": "code",
   "execution_count": null,
   "id": "59b46b3f",
   "metadata": {},
   "outputs": [],
   "source": [
    "client.setStepping(False)\n",
    "sim.startSimulation()\n",
    "\n",
    "for (handle,degree) in zip(joint_handels,qd):\n",
    "    sim.setJointTargetPosition(handle,degree) # degree by radian\n",
    "    sim.startSimulation()"
   ]
  },
  {
   "cell_type": "code",
   "execution_count": null,
   "id": "6f1166ff",
   "metadata": {},
   "outputs": [],
   "source": [
    "sim.stopSimulation()"
   ]
  }
 ],
 "metadata": {
  "kernelspec": {
   "display_name": "Python 3 (ipykernel)",
   "language": "python",
   "name": "python3"
  },
  "language_info": {
   "codemirror_mode": {
    "name": "ipython",
    "version": 3
   },
   "file_extension": ".py",
   "mimetype": "text/x-python",
   "name": "python",
   "nbconvert_exporter": "python",
   "pygments_lexer": "ipython3",
   "version": "3.8.10"
  }
 },
 "nbformat": 4,
 "nbformat_minor": 5
}
