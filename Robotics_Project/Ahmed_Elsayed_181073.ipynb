{
 "cells": [
  {
   "cell_type": "code",
   "execution_count": null,
   "id": "0f9d9fc3",
   "metadata": {},
   "outputs": [],
   "source": [
    "import time\n",
    "import numpy as np \n",
    "from zmqRemoteApi import RemoteAPIClient"
   ]
  },
  {
   "cell_type": "code",
   "execution_count": null,
   "id": "c54f411a",
   "metadata": {},
   "outputs": [],
   "source": [
    "def degree_To_radian(degree):\n",
    "    return (degree * np.pi/180)\n",
    "\n",
    "def FK(theta, alfa, a, d):\n",
    "    \n",
    "    Cos_theta = np.cos(theta)\n",
    "    Sin_theta = np.sin(theta)\n",
    "    Cos_alfa = np.cos(alfa)\n",
    "    Sin_alfa = np.sin(alfa)\n",
    "    Transformation_mat = np.array([\n",
    "                                    [Cos_theta,-Sin_theta*Cos_alfa,Sin_theta*Sin_alfa,a*Cos_theta],\n",
    "                                    [Sin_theta,Cos_theta*Cos_alfa,-Cos_theta*Sin_alfa,a*Sin_theta],\n",
    "                                    [0,Sin_alfa,Cos_alfa,d],\n",
    "                                    [0,0,0,1]\n",
    "                                  ])\n",
    "    return np.round(Transformation_mat.reshape(4,4),2)"
   ]
  },
  {
   "cell_type": "code",
   "execution_count": null,
   "id": "30214d57",
   "metadata": {},
   "outputs": [],
   "source": [
    "def Calculate_Jacopian_P(Trans_mat_arr):\n",
    "    \n",
    "    O_0 = np.zeros([3,1])\n",
    "    Jp_size = len(Trans_mat_arr)\n",
    "    Z_0 = np.array([[0,0,1]]).reshape(3,1)\n",
    "    Z_arr = [z[0:3,2] for z in Trans_mat_arr]\n",
    "    Z_arr.insert(0,Z_0)\n",
    "    O_arr = [o[0:3,3] for o in Trans_mat_arr]\n",
    "    O_arr.insert(0,O_0)\n",
    "    O_last = O_arr[-1].reshape(3,1)\n",
    "    jp_mat = np.array([\n",
    "        [np.cross(Z_arr[i].reshape(3,1) , (O_last-O_arr[i].reshape(3,1)),axis=0) for i in range(Jp_size)]\n",
    "    ])\n",
    "    return jp_mat.reshape(3,Jp_size).transpose()\n",
    "    \n",
    "def Calculate_Jacopian_r(Trans_mat_arr):\n",
    "    \n",
    "    Z_0 = np.array([[0,0,1]])\n",
    "    Jp_size = len(Trans_mat_arr)\n",
    "    Z_arr = [Trans_mat_arr[z][0:3,2] for z in range(Jp_size-1)]\n",
    "    Z_arr.insert(0,Z_0)\n",
    "    Jr_mat = np.array([[z.reshape(3,1) for z in Z_arr]])\n",
    "    return Jr_mat.reshape(3,Jp_size).transpose()\n",
    "\n",
    "def Calculate_J(Trans_mat_arr):\n",
    "    \n",
    "    J_size = len(Trans_mat_arr)\n",
    "    J = np.array([\n",
    "                    [Calculate_Jacopian_P(Trans_mat_arr),\n",
    "                     Calculate_Jacopian_r(Trans_mat_arr)]\n",
    "                ])\n",
    "    return J.reshape(6,J_size)"
   ]
  },
  {
   "cell_type": "code",
   "execution_count": null,
   "id": "c1b8b8e3",
   "metadata": {},
   "outputs": [],
   "source": [
    "def Calculate_0n_Matrix(Trans_mat_arr):\n",
    "    \n",
    "    n = len(Trans_mat_arr)\n",
    "    T_0 = np.identity(4)\n",
    "    result_mat = []\n",
    "    for i in range(n):\n",
    "        T_0 = np.matmul(T_0,Trans_mat_arr[i])\n",
    "        T_0 = np.round(T_0,2)\n",
    "        result_mat.append( T_0 )\n",
    "    return result_mat"
   ]
  },
  {
   "cell_type": "code",
   "execution_count": null,
   "id": "bed820bd",
   "metadata": {},
   "outputs": [],
   "source": [
    "def Calculate_Delta_X(Td, T0):\n",
    "    \n",
    "    Pd = Td[0:3,3]\n",
    "    P0 = T0[0:3,3]\n",
    "    Rd = Td[0:3,0:3]\n",
    "    R0 = T0[0:3,0:3]\n",
    "    I = np.identity(3)\n",
    "    Pos_list = np.array([[d-c for d,c in zip(Pd,P0)]])\n",
    "    Pos_list = Pos_list.reshape(3,1)\n",
    "    DR = np.matmul(Rd,R0.transpose())\n",
    "    skew = np.subtract(DR , I)\n",
    "    skew = np.round(skew,2)\n",
    "    vec = np.array([[abs(skew[1,2]),abs(skew[0,2]) ,abs(skew[0,1])]])\n",
    "    vec = vec.reshape(3,1)\n",
    "    Delta_X = np.array([Pos_list,vec])\n",
    "    return np.round(Delta_X.reshape(6,1),2)  "
   ]
  },
  {
   "cell_type": "code",
   "execution_count": null,
   "id": "614b5cdf",
   "metadata": {},
   "outputs": [],
   "source": [
    "def Calculate_IK(dX,J,q0):\n",
    "    # qd = q0 + J+ * d_X\n",
    "    j_pinv = np.linalg.pinv(J)\n",
    "    q0_arr = np.array([q0])\n",
    "    q0_arr = q0_arr.reshape(6,1)\n",
    "    qd = np.add(q0_arr,np.matmul(np.round(j_pinv,2),dX)) # 6*1\n",
    "    return np.round(qd.reshape(1,6),2)"
   ]
  },
  {
   "cell_type": "code",
   "execution_count": null,
   "id": "7873a359",
   "metadata": {},
   "outputs": [],
   "source": [
    "client = RemoteAPIClient()\n",
    "sim = client.getObject('sim')\n",
    "# When simulation is not running, ZMQ message handling could be a bit\n",
    "# slow, since the idle loop runs at 8 Hz by default. So let's make\n",
    "# sure that the idle loop runs at full speed for this program:\n",
    "defaultIdleFps = sim.getInt32Param(sim.intparam_idle_fps)\n",
    "sim.setInt32Param(sim.intparam_idle_fps, 0)"
   ]
  },
  {
   "cell_type": "code",
   "execution_count": null,
   "id": "471674d0",
   "metadata": {},
   "outputs": [],
   "source": [
    "# set Object name \n",
    "joint_names = [f\"joint_{i+1}\"  for i in range(6)]\n",
    "joint_handels = [sim.getObjectHandle(joint) for joint in joint_names]\n",
    "joint_Position = [sim.getJointPosition(handle) for handle in joint_handels]\n",
    "for handle in joint_handels:\n",
    "    sim.setObjectInt32Parameter(handle ,2001,~0) #to enable the position control"
   ]
  },
  {
   "cell_type": "code",
   "execution_count": null,
   "id": "7659c35e",
   "metadata": {},
   "outputs": [],
   "source": [
    "q0 = [0,0,0,0,0,0]\n",
    "alpha = [90,0,0,90,-90,0]\n",
    "D = [0.1519,0,0,0.11235,0.08535,0.0819]\n",
    "A = [0,-0.24365,-0.21325,0,0,0]\n",
    "\n",
    "# calc Transformation matrix using FK\n",
    "Trans_list = [FK(degree_To_radian(q0[i]),degree_To_radian(alpha[i]),A[i],D[i]) for i in range(6)]\n",
    "T_0n = Calculate_0n_Matrix(Trans_list)\n",
    "# calc T disierd\n",
    "T_d = FK(degree_To_radian(45),degree_To_radian(45),0,0)\n",
    "# claculate Jacopian matrix\n",
    "J = Calculate_J(T_0n)\n",
    "# calculate delta X matrix  \n",
    "delta_X = Calculate_Delta_X(T_d,T_0n[-1])\n",
    "# calculate qd using IK \n",
    "qd = Calculate_IK(delta_X,J,q0)"
   ]
  },
  {
   "cell_type": "code",
   "execution_count": null,
   "id": "70744c95",
   "metadata": {},
   "outputs": [],
   "source": [
    "while ~( np.isclose( np.linalg.norm(delta_X),0.9 ,rtol=0.08)  ):\n",
    "    \n",
    "    q0 = qd.copy()\n",
    "    Trans_list.clear()\n",
    "    Trans_list = [FK(q0[0][i],degree_To_radian(alpha[i]),A[i],D[i]) for i in range(6)]\n",
    "    T_0n = Calculate_0n_Matrix(Trans_list)\n",
    "    J = Calculate_J(T_0n)\n",
    "    delta_X = Calculate_Delta_X(T_d,T_0n[-1])\n",
    "    qd = Calculate_IK(delta_X,J,q0)"
   ]
  },
  {
   "cell_type": "code",
   "execution_count": null,
   "id": "0be6fb5c",
   "metadata": {},
   "outputs": [],
   "source": [
    "client.setStepping(False)\n",
    "sim.startSimulation()\n",
    "\n",
    "for (handle,degree) in zip(joint_handels,qd[0]):\n",
    "    sim.startSimulation()\n",
    "    sim.setJointTargetPosition(handle, degree_To_radian(degree) ) # degree by radian\n",
    "    sim.startSimulation()"
   ]
  },
  {
   "cell_type": "code",
   "execution_count": null,
   "id": "804dde68",
   "metadata": {},
   "outputs": [],
   "source": [
    "sim.stopSimulation()"
   ]
  },
  {
   "cell_type": "code",
   "execution_count": null,
   "id": "d3b207ce",
   "metadata": {},
   "outputs": [],
   "source": []
  }
 ],
 "metadata": {
  "kernelspec": {
   "display_name": "Python 3 (ipykernel)",
   "language": "python",
   "name": "python3"
  },
  "language_info": {
   "codemirror_mode": {
    "name": "ipython",
    "version": 3
   },
   "file_extension": ".py",
   "mimetype": "text/x-python",
   "name": "python",
   "nbconvert_exporter": "python",
   "pygments_lexer": "ipython3",
   "version": "3.8.10"
  }
 },
 "nbformat": 4,
 "nbformat_minor": 5
}
